{
 "cells": [
  {
   "cell_type": "markdown",
   "metadata": {
    "id": "YeoiMbH7djEv"
   },
   "source": [
    "# Stock prices dataset\n",
    "The data is of tock exchange's stock listings for each trading day of 2010 to 2016.\n",
    "\n",
    "## Description\n",
    "A brief description of columns.\n",
    "- open: The opening market price of the equity symbol on the date\n",
    "- high: The highest market price of the equity symbol on the date\n",
    "- low: The lowest recorded market price of the equity symbol on the date\n",
    "- close: The closing recorded price of the equity symbol on the date\n",
    "- symbol: Symbol of the listed company\n",
    "- volume: Total traded volume of the equity symbol on the date\n",
    "- date: Date of record"
   ]
  },
  {
   "cell_type": "markdown",
   "metadata": {
    "id": "RSoYY2nII_UW"
   },
   "source": [
    "In this assignment, we will work on the stock prices dataset named \"prices.csv\". Task is to create a Neural Network to classify closing price for a stock based on some parameters."
   ]
  },
  {
   "cell_type": "code",
   "execution_count": 1,
   "metadata": {
    "id": "PGqq9f8VdLba"
   },
   "outputs": [],
   "source": [
    "# Initialize the random number generator\n",
    "import random\n",
    "random.seed(0)\n",
    "\n",
    "# Ignore the warnings\n",
    "import warnings\n",
    "warnings.filterwarnings(\"ignore\")"
   ]
  },
  {
   "cell_type": "markdown",
   "metadata": {
    "id": "_88voqAH-O6J"
   },
   "source": [
    "## Question 1"
   ]
  },
  {
   "cell_type": "markdown",
   "metadata": {
    "id": "dRHCeJqP-evf"
   },
   "source": [
    "### Load the data\n",
    "- load the csv file and read it using pandas\n",
    "- file name is prices.csv"
   ]
  },
  {
   "cell_type": "code",
   "execution_count": null,
   "metadata": {
    "id": "cKVH5v7r-RmC"
   },
   "outputs": [],
   "source": [
    "# run this cell to upload file using GUI if you are using google colab\n",
    "\n",
    "from google.colab import files\n",
    "files.upload()"
   ]
  },
  {
   "cell_type": "code",
   "execution_count": 13,
   "metadata": {
    "colab": {
     "base_uri": "https://localhost:8080/"
    },
    "id": "Gr4YcffYd1FQ",
    "outputId": "a8c2d4c1-eeb4-47e7-c892-0d11e07875a4"
   },
   "outputs": [
    {
     "name": "stdout",
     "output_type": "stream",
     "text": [
      "Mounted at /content/drive\n"
     ]
    }
   ],
   "source": [
    "# run this cell to to mount the google drive if you are using google colab\n",
    "\n",
    "#Mount Google drive\n",
    "from google.colab import drive\n",
    "drive.mount('/content/drive')"
   ]
  },
  {
   "cell_type": "code",
   "execution_count": 5,
   "metadata": {
    "id": "xV__0IA3vwmJ"
   },
   "outputs": [],
   "source": [
    "import numpy as np\n",
    "import pandas as pd"
   ]
  },
  {
   "cell_type": "code",
   "execution_count": 28,
   "metadata": {
    "id": "__Gd3IpGg4O8"
   },
   "outputs": [],
   "source": [
    "df = pd.read_csv('/content/drive/My Drive/Lab NN/prices.csv')"
   ]
  },
  {
   "cell_type": "code",
   "execution_count": 29,
   "metadata": {
    "colab": {
     "base_uri": "https://localhost:8080/",
     "height": 202
    },
    "id": "2z--sQhvjo-m",
    "outputId": "96f979a3-e83e-4d8d-ea97-1e18b139f870"
   },
   "outputs": [
    {
     "data": {
      "text/html": [
       "<div>\n",
       "<style scoped>\n",
       "    .dataframe tbody tr th:only-of-type {\n",
       "        vertical-align: middle;\n",
       "    }\n",
       "\n",
       "    .dataframe tbody tr th {\n",
       "        vertical-align: top;\n",
       "    }\n",
       "\n",
       "    .dataframe thead th {\n",
       "        text-align: right;\n",
       "    }\n",
       "</style>\n",
       "<table border=\"1\" class=\"dataframe\">\n",
       "  <thead>\n",
       "    <tr style=\"text-align: right;\">\n",
       "      <th></th>\n",
       "      <th>date</th>\n",
       "      <th>symbol</th>\n",
       "      <th>open</th>\n",
       "      <th>close</th>\n",
       "      <th>low</th>\n",
       "      <th>high</th>\n",
       "      <th>volume</th>\n",
       "    </tr>\n",
       "  </thead>\n",
       "  <tbody>\n",
       "    <tr>\n",
       "      <th>0</th>\n",
       "      <td>2016-01-05 00:00:00</td>\n",
       "      <td>WLTW</td>\n",
       "      <td>123.430000</td>\n",
       "      <td>125.839996</td>\n",
       "      <td>122.309998</td>\n",
       "      <td>126.250000</td>\n",
       "      <td>2163600.0</td>\n",
       "    </tr>\n",
       "    <tr>\n",
       "      <th>1</th>\n",
       "      <td>2016-01-06 00:00:00</td>\n",
       "      <td>WLTW</td>\n",
       "      <td>125.239998</td>\n",
       "      <td>119.980003</td>\n",
       "      <td>119.940002</td>\n",
       "      <td>125.540001</td>\n",
       "      <td>2386400.0</td>\n",
       "    </tr>\n",
       "    <tr>\n",
       "      <th>2</th>\n",
       "      <td>2016-01-07 00:00:00</td>\n",
       "      <td>WLTW</td>\n",
       "      <td>116.379997</td>\n",
       "      <td>114.949997</td>\n",
       "      <td>114.930000</td>\n",
       "      <td>119.739998</td>\n",
       "      <td>2489500.0</td>\n",
       "    </tr>\n",
       "    <tr>\n",
       "      <th>3</th>\n",
       "      <td>2016-01-08 00:00:00</td>\n",
       "      <td>WLTW</td>\n",
       "      <td>115.480003</td>\n",
       "      <td>116.620003</td>\n",
       "      <td>113.500000</td>\n",
       "      <td>117.440002</td>\n",
       "      <td>2006300.0</td>\n",
       "    </tr>\n",
       "    <tr>\n",
       "      <th>4</th>\n",
       "      <td>2016-01-11 00:00:00</td>\n",
       "      <td>WLTW</td>\n",
       "      <td>117.010002</td>\n",
       "      <td>114.970001</td>\n",
       "      <td>114.089996</td>\n",
       "      <td>117.330002</td>\n",
       "      <td>1408600.0</td>\n",
       "    </tr>\n",
       "  </tbody>\n",
       "</table>\n",
       "</div>"
      ],
      "text/plain": [
       "                  date symbol        open  ...         low        high     volume\n",
       "0  2016-01-05 00:00:00   WLTW  123.430000  ...  122.309998  126.250000  2163600.0\n",
       "1  2016-01-06 00:00:00   WLTW  125.239998  ...  119.940002  125.540001  2386400.0\n",
       "2  2016-01-07 00:00:00   WLTW  116.379997  ...  114.930000  119.739998  2489500.0\n",
       "3  2016-01-08 00:00:00   WLTW  115.480003  ...  113.500000  117.440002  2006300.0\n",
       "4  2016-01-11 00:00:00   WLTW  117.010002  ...  114.089996  117.330002  1408600.0\n",
       "\n",
       "[5 rows x 7 columns]"
      ]
     },
     "execution_count": 29,
     "metadata": {
      "tags": []
     },
     "output_type": "execute_result"
    }
   ],
   "source": [
    "df.head()"
   ]
  },
  {
   "cell_type": "code",
   "execution_count": 30,
   "metadata": {
    "colab": {
     "base_uri": "https://localhost:8080/"
    },
    "id": "ng9b-z4-jsOM",
    "outputId": "023b41d6-2f44-4b5f-f539-43d4dbb6a293"
   },
   "outputs": [
    {
     "data": {
      "text/plain": [
       "(851264, 7)"
      ]
     },
     "execution_count": 30,
     "metadata": {
      "tags": []
     },
     "output_type": "execute_result"
    }
   ],
   "source": [
    "df.shape"
   ]
  },
  {
   "cell_type": "markdown",
   "metadata": {
    "id": "HlLKVPVH_BCT"
   },
   "source": [
    "## Question 2"
   ]
  },
  {
   "cell_type": "markdown",
   "metadata": {
    "id": "ZxoGynuBeO4t"
   },
   "source": [
    "### Drop null\n",
    "- Drop null values if any"
   ]
  },
  {
   "cell_type": "code",
   "execution_count": 31,
   "metadata": {
    "colab": {
     "base_uri": "https://localhost:8080/"
    },
    "id": "_yuwJJIeeUaD",
    "outputId": "f73d7854-8624-4ea1-ab2d-7be57ce16f07"
   },
   "outputs": [
    {
     "data": {
      "text/plain": [
       "date      0\n",
       "symbol    0\n",
       "open      0\n",
       "close     0\n",
       "low       0\n",
       "high      0\n",
       "volume    0\n",
       "dtype: int64"
      ]
     },
     "execution_count": 31,
     "metadata": {
      "tags": []
     },
     "output_type": "execute_result"
    }
   ],
   "source": [
    "df.isnull().sum()"
   ]
  },
  {
   "cell_type": "code",
   "execution_count": 52,
   "metadata": {
    "colab": {
     "base_uri": "https://localhost:8080/"
    },
    "id": "sCd7b0Zaom-E",
    "outputId": "2b8f6fff-4fe0-4322-fed5-916f2b6cc061"
   },
   "outputs": [
    {
     "data": {
      "text/plain": [
       "date      0\n",
       "symbol    0\n",
       "open      0\n",
       "close     0\n",
       "low       0\n",
       "high      0\n",
       "volume    0\n",
       "dtype: int64"
      ]
     },
     "execution_count": 52,
     "metadata": {
      "tags": []
     },
     "output_type": "execute_result"
    }
   ],
   "source": [
    "df.isna().sum()"
   ]
  },
  {
   "cell_type": "code",
   "execution_count": null,
   "metadata": {
    "id": "WGkgG8ddoikP"
   },
   "outputs": [],
   "source": [
    "# No Null or NaN value observed"
   ]
  },
  {
   "cell_type": "markdown",
   "metadata": {
    "id": "9J4BlzVA_gZd"
   },
   "source": [
    "### Drop columns\n",
    "- Now, we don't need \"date\", \"volume\" and \"symbol\" column\n",
    "- drop \"date\", \"volume\" and \"symbol\" column from the data\n"
   ]
  },
  {
   "cell_type": "code",
   "execution_count": 33,
   "metadata": {
    "id": "IKEK8aEE_Csx"
   },
   "outputs": [],
   "source": [
    "df1= pd.DataFrame.copy(df) # Housekeeping for DataFrame backup"
   ]
  },
  {
   "cell_type": "code",
   "execution_count": 36,
   "metadata": {
    "id": "qCloIbaOkOMA"
   },
   "outputs": [],
   "source": [
    "df1 = df1.drop(['date','volume','symbol'],axis = 1)"
   ]
  },
  {
   "cell_type": "markdown",
   "metadata": {
    "id": "cTPhO6v-AiZt"
   },
   "source": [
    "## Question 3"
   ]
  },
  {
   "cell_type": "markdown",
   "metadata": {
    "id": "SsZXmF3NAkna"
   },
   "source": [
    "### Print the dataframe\n",
    "- print the modified dataframe"
   ]
  },
  {
   "cell_type": "code",
   "execution_count": 37,
   "metadata": {
    "colab": {
     "base_uri": "https://localhost:8080/",
     "height": 202
    },
    "id": "GisYEz7fkb_f",
    "outputId": "26f4b735-393b-472c-9406-9745a55cce43"
   },
   "outputs": [
    {
     "data": {
      "text/html": [
       "<div>\n",
       "<style scoped>\n",
       "    .dataframe tbody tr th:only-of-type {\n",
       "        vertical-align: middle;\n",
       "    }\n",
       "\n",
       "    .dataframe tbody tr th {\n",
       "        vertical-align: top;\n",
       "    }\n",
       "\n",
       "    .dataframe thead th {\n",
       "        text-align: right;\n",
       "    }\n",
       "</style>\n",
       "<table border=\"1\" class=\"dataframe\">\n",
       "  <thead>\n",
       "    <tr style=\"text-align: right;\">\n",
       "      <th></th>\n",
       "      <th>open</th>\n",
       "      <th>close</th>\n",
       "      <th>low</th>\n",
       "      <th>high</th>\n",
       "    </tr>\n",
       "  </thead>\n",
       "  <tbody>\n",
       "    <tr>\n",
       "      <th>0</th>\n",
       "      <td>123.430000</td>\n",
       "      <td>125.839996</td>\n",
       "      <td>122.309998</td>\n",
       "      <td>126.250000</td>\n",
       "    </tr>\n",
       "    <tr>\n",
       "      <th>1</th>\n",
       "      <td>125.239998</td>\n",
       "      <td>119.980003</td>\n",
       "      <td>119.940002</td>\n",
       "      <td>125.540001</td>\n",
       "    </tr>\n",
       "    <tr>\n",
       "      <th>2</th>\n",
       "      <td>116.379997</td>\n",
       "      <td>114.949997</td>\n",
       "      <td>114.930000</td>\n",
       "      <td>119.739998</td>\n",
       "    </tr>\n",
       "    <tr>\n",
       "      <th>3</th>\n",
       "      <td>115.480003</td>\n",
       "      <td>116.620003</td>\n",
       "      <td>113.500000</td>\n",
       "      <td>117.440002</td>\n",
       "    </tr>\n",
       "    <tr>\n",
       "      <th>4</th>\n",
       "      <td>117.010002</td>\n",
       "      <td>114.970001</td>\n",
       "      <td>114.089996</td>\n",
       "      <td>117.330002</td>\n",
       "    </tr>\n",
       "  </tbody>\n",
       "</table>\n",
       "</div>"
      ],
      "text/plain": [
       "         open       close         low        high\n",
       "0  123.430000  125.839996  122.309998  126.250000\n",
       "1  125.239998  119.980003  119.940002  125.540001\n",
       "2  116.379997  114.949997  114.930000  119.739998\n",
       "3  115.480003  116.620003  113.500000  117.440002\n",
       "4  117.010002  114.970001  114.089996  117.330002"
      ]
     },
     "execution_count": 37,
     "metadata": {
      "tags": []
     },
     "output_type": "execute_result"
    }
   ],
   "source": [
    "df1.head()"
   ]
  },
  {
   "cell_type": "code",
   "execution_count": 38,
   "metadata": {
    "colab": {
     "base_uri": "https://localhost:8080/"
    },
    "id": "aKs04iIHAjxN",
    "outputId": "c86f8c2e-9a78-491b-99d4-41b0634e16f5"
   },
   "outputs": [
    {
     "name": "stdout",
     "output_type": "stream",
     "text": [
      "<class 'pandas.core.frame.DataFrame'>\n",
      "RangeIndex: 851264 entries, 0 to 851263\n",
      "Data columns (total 4 columns):\n",
      " #   Column  Non-Null Count   Dtype  \n",
      "---  ------  --------------   -----  \n",
      " 0   open    851264 non-null  float64\n",
      " 1   close   851264 non-null  float64\n",
      " 2   low     851264 non-null  float64\n",
      " 3   high    851264 non-null  float64\n",
      "dtypes: float64(4)\n",
      "memory usage: 26.0 MB\n"
     ]
    }
   ],
   "source": [
    "df1.info()"
   ]
  },
  {
   "cell_type": "markdown",
   "metadata": {
    "id": "C8u_jlbABTip"
   },
   "source": [
    "### Get features and label from the dataset in separate variable\n",
    "- Let's separate labels and features now. We are going to predict the value for \"close\" column so that will be our label. Our features will be \"open\", \"low\", \"high\"\n",
    "- Take \"open\" \"low\", \"high\" columns as features\n",
    "- Take \"close\" column as label"
   ]
  },
  {
   "cell_type": "code",
   "execution_count": 39,
   "metadata": {
    "id": "xQjCMzUXBJbg"
   },
   "outputs": [],
   "source": [
    "# Import `train_test_split` from `sklearn.model_selection`\n",
    "from sklearn.model_selection import train_test_split\n",
    "\n",
    "X = df1.drop('close',axis=1)\n",
    "y = df1.pop('close')"
   ]
  },
  {
   "cell_type": "code",
   "execution_count": 40,
   "metadata": {
    "colab": {
     "base_uri": "https://localhost:8080/"
    },
    "id": "S4_K92tZl3Mv",
    "outputId": "1340ae67-37eb-4b1b-f217-3d15f713bff8"
   },
   "outputs": [
    {
     "data": {
      "text/plain": [
       "((851264, 3), (851264,))"
      ]
     },
     "execution_count": 40,
     "metadata": {
      "tags": []
     },
     "output_type": "execute_result"
    }
   ],
   "source": [
    "X.shape, y.shape"
   ]
  },
  {
   "cell_type": "code",
   "execution_count": 53,
   "metadata": {
    "colab": {
     "base_uri": "https://localhost:8080/",
     "height": 202
    },
    "id": "yA4W6t8NpqFx",
    "outputId": "e059b705-2d80-4b04-8edd-90ef80cf8109"
   },
   "outputs": [
    {
     "data": {
      "text/html": [
       "<div>\n",
       "<style scoped>\n",
       "    .dataframe tbody tr th:only-of-type {\n",
       "        vertical-align: middle;\n",
       "    }\n",
       "\n",
       "    .dataframe tbody tr th {\n",
       "        vertical-align: top;\n",
       "    }\n",
       "\n",
       "    .dataframe thead th {\n",
       "        text-align: right;\n",
       "    }\n",
       "</style>\n",
       "<table border=\"1\" class=\"dataframe\">\n",
       "  <thead>\n",
       "    <tr style=\"text-align: right;\">\n",
       "      <th></th>\n",
       "      <th>open</th>\n",
       "      <th>low</th>\n",
       "      <th>high</th>\n",
       "    </tr>\n",
       "  </thead>\n",
       "  <tbody>\n",
       "    <tr>\n",
       "      <th>0</th>\n",
       "      <td>123.430000</td>\n",
       "      <td>122.309998</td>\n",
       "      <td>126.250000</td>\n",
       "    </tr>\n",
       "    <tr>\n",
       "      <th>1</th>\n",
       "      <td>125.239998</td>\n",
       "      <td>119.940002</td>\n",
       "      <td>125.540001</td>\n",
       "    </tr>\n",
       "    <tr>\n",
       "      <th>2</th>\n",
       "      <td>116.379997</td>\n",
       "      <td>114.930000</td>\n",
       "      <td>119.739998</td>\n",
       "    </tr>\n",
       "    <tr>\n",
       "      <th>3</th>\n",
       "      <td>115.480003</td>\n",
       "      <td>113.500000</td>\n",
       "      <td>117.440002</td>\n",
       "    </tr>\n",
       "    <tr>\n",
       "      <th>4</th>\n",
       "      <td>117.010002</td>\n",
       "      <td>114.089996</td>\n",
       "      <td>117.330002</td>\n",
       "    </tr>\n",
       "  </tbody>\n",
       "</table>\n",
       "</div>"
      ],
      "text/plain": [
       "         open         low        high\n",
       "0  123.430000  122.309998  126.250000\n",
       "1  125.239998  119.940002  125.540001\n",
       "2  116.379997  114.930000  119.739998\n",
       "3  115.480003  113.500000  117.440002\n",
       "4  117.010002  114.089996  117.330002"
      ]
     },
     "execution_count": 53,
     "metadata": {
      "tags": []
     },
     "output_type": "execute_result"
    }
   ],
   "source": [
    "X.head()"
   ]
  },
  {
   "cell_type": "code",
   "execution_count": 54,
   "metadata": {
    "colab": {
     "base_uri": "https://localhost:8080/"
    },
    "id": "2GvbZ8Y9psJo",
    "outputId": "208e6d2a-14ed-42eb-a85d-f8771d731c37"
   },
   "outputs": [
    {
     "data": {
      "text/plain": [
       "0    125.839996\n",
       "1    119.980003\n",
       "2    114.949997\n",
       "3    116.620003\n",
       "4    114.970001\n",
       "Name: close, dtype: float64"
      ]
     },
     "execution_count": 54,
     "metadata": {
      "tags": []
     },
     "output_type": "execute_result"
    }
   ],
   "source": [
    "y.head()"
   ]
  },
  {
   "cell_type": "markdown",
   "metadata": {
    "id": "6vGtnapgBIJm"
   },
   "source": [
    "## Question 4"
   ]
  },
  {
   "cell_type": "markdown",
   "metadata": {
    "id": "8pZAKdJ5gcrm"
   },
   "source": [
    "### Create train and test sets\n",
    "- Split the data into training and testing"
   ]
  },
  {
   "cell_type": "code",
   "execution_count": 57,
   "metadata": {
    "id": "KalRqA6Rgqsn"
   },
   "outputs": [],
   "source": [
    "# Split the data up in train and test sets\n",
    "X_train, X_test, y_train, y_test = train_test_split(X, y, test_size=0.30, random_state=5)"
   ]
  },
  {
   "cell_type": "markdown",
   "metadata": {
    "id": "aTAKzlxZBz0z"
   },
   "source": [
    "## Question 5"
   ]
  },
  {
   "cell_type": "markdown",
   "metadata": {
    "id": "O7BU2qxEg0Ki"
   },
   "source": [
    "### Scaling\n",
    "- Scale the data (features only)\n",
    "- Use StandarScaler"
   ]
  },
  {
   "cell_type": "code",
   "execution_count": 42,
   "metadata": {
    "id": "AcO8SlhPhBkR"
   },
   "outputs": [],
   "source": [
    "# Import `StandardScaler` from `sklearn.preprocessing`\n",
    "from sklearn.preprocessing import StandardScaler\n",
    "\n",
    "# Define the scaler \n",
    "scaler = StandardScaler().fit(X_train)\n",
    "\n",
    "# Scale the train set\n",
    "X_train = scaler.transform(X_train)\n",
    "\n",
    "# Scale the test set\n",
    "X_test = scaler.transform(X_test)"
   ]
  },
  {
   "cell_type": "markdown",
   "metadata": {
    "id": "3TWpN0nVTpUx"
   },
   "source": [
    "## Question 6"
   ]
  },
  {
   "cell_type": "markdown",
   "metadata": {
    "id": "_sj0LYNkhR-L"
   },
   "source": [
    "### Convert data to NumPy array\n",
    "- Convert features and labels to numpy array"
   ]
  },
  {
   "cell_type": "code",
   "execution_count": 66,
   "metadata": {
    "colab": {
     "base_uri": "https://localhost:8080/"
    },
    "id": "ig8dreTAuuYs",
    "outputId": "50b40d08-626a-4ed7-d0d7-2bf00c93fd11"
   },
   "outputs": [
    {
     "data": {
      "text/plain": [
       "pandas.core.frame.DataFrame"
      ]
     },
     "execution_count": 66,
     "metadata": {
      "tags": []
     },
     "output_type": "execute_result"
    }
   ],
   "source": [
    "type(X_train)"
   ]
  },
  {
   "cell_type": "code",
   "execution_count": 45,
   "metadata": {
    "id": "X6mIfuTxhbTT"
   },
   "outputs": [],
   "source": [
    "X_train_np = np.array(X_train)"
   ]
  },
  {
   "cell_type": "code",
   "execution_count": 46,
   "metadata": {
    "id": "wRy1LzWEnEV8"
   },
   "outputs": [],
   "source": [
    "X_test_np = np.array(X_test)"
   ]
  },
  {
   "cell_type": "code",
   "execution_count": 47,
   "metadata": {
    "id": "3j4bW23onI_P"
   },
   "outputs": [],
   "source": [
    "y_train_np =np.array(y_train)"
   ]
  },
  {
   "cell_type": "code",
   "execution_count": 48,
   "metadata": {
    "id": "FwbnOHZxnRTN"
   },
   "outputs": [],
   "source": [
    "y_test_np =np.array(y_test)"
   ]
  },
  {
   "cell_type": "code",
   "execution_count": 50,
   "metadata": {
    "colab": {
     "base_uri": "https://localhost:8080/"
    },
    "id": "ohsSiUM3nYS3",
    "outputId": "9b83d881-b3e3-42f9-9cb4-a622d0f8f3d7"
   },
   "outputs": [
    {
     "data": {
      "text/plain": [
       "((595884, 3), (255380, 3))"
      ]
     },
     "execution_count": 50,
     "metadata": {
      "tags": []
     },
     "output_type": "execute_result"
    }
   ],
   "source": [
    "X_train_np.shape,X_test_np.shape"
   ]
  },
  {
   "cell_type": "code",
   "execution_count": 69,
   "metadata": {
    "colab": {
     "base_uri": "https://localhost:8080/"
    },
    "id": "lKUNTyGKu1kJ",
    "outputId": "482bb0aa-300c-435c-d73a-3adc760885ba"
   },
   "outputs": [
    {
     "data": {
      "text/plain": [
       "(numpy.ndarray, numpy.ndarray, numpy.ndarray, numpy.ndarray)"
      ]
     },
     "execution_count": 69,
     "metadata": {
      "tags": []
     },
     "output_type": "execute_result"
    }
   ],
   "source": [
    "type(X_train_np),type(X_test_np),type(y_train_np),type(y_test_np)"
   ]
  },
  {
   "cell_type": "markdown",
   "metadata": {
    "id": "wmXUGc2oTspa"
   },
   "source": [
    "## Question 7"
   ]
  },
  {
   "cell_type": "markdown",
   "metadata": {
    "id": "cl2M9whFh6mh"
   },
   "source": [
    "### Define Model\n",
    "- Initialize a Sequential model\n",
    "- Add a Flatten layer\n",
    "- Add a Dense layer with one neuron as output\n",
    "  - add 'linear' as activation function\n"
   ]
  },
  {
   "cell_type": "code",
   "execution_count": 76,
   "metadata": {
    "id": "TkiBpORmiegL"
   },
   "outputs": [],
   "source": [
    "# Importing the required libraries from tensorflow\n",
    "import tensorflow as tf\n",
    "from tensorflow.keras.models import Sequential\n",
    "from tensorflow.keras.layers import Dense, Dropout,Flatten\n",
    "from tensorflow.keras.optimizers import Adam, SGD\n",
    "from tensorflow.keras.callbacks import EarlyStopping\n",
    "from tensorflow.keras.layers import BatchNormalization\n",
    "from tensorflow.keras.activations import relu"
   ]
  },
  {
   "cell_type": "code",
   "execution_count": 95,
   "metadata": {
    "id": "u5hqptm_zYcI"
   },
   "outputs": [],
   "source": [
    "# Initialize the constructor\n",
    "model=Sequential()\n",
    "# Flatten Data\n",
    "model.add(Flatten())\n",
    "# Add an input layer \n",
    "model.add(Dense(1, activation='linear'))\n",
    "\n",
    "\n",
    "# Add an output layer \n",
    "#model.add(Dense(1, activation='linear'))"
   ]
  },
  {
   "cell_type": "markdown",
   "metadata": {
    "id": "8a0wr94aTyjg"
   },
   "source": [
    "## Question 8"
   ]
  },
  {
   "cell_type": "markdown",
   "metadata": {
    "id": "BNZPb5lKioX0"
   },
   "source": [
    "### Compile the model\n",
    "- Compile the model\n",
    "- Use \"sgd\" optimizer\n",
    "- for calculating loss, use mean squared error"
   ]
  },
  {
   "cell_type": "code",
   "execution_count": 115,
   "metadata": {
    "id": "ZEQUP3VaiuT2"
   },
   "outputs": [],
   "source": [
    "model.compile(loss='mse',\n",
    "              optimizer='sgd',\n",
    "              metrics=['mse'])\n",
    "#optimizer=\"Adam\", loss=\"mse\", metrics=[\"mae\"]"
   ]
  },
  {
   "cell_type": "markdown",
   "metadata": {
    "id": "ZbBpnOtfT0wd"
   },
   "source": [
    "## Question 9"
   ]
  },
  {
   "cell_type": "markdown",
   "metadata": {
    "id": "n9o45OHdjDhA"
   },
   "source": [
    "### Fit the model\n",
    "- epochs: 50\n",
    "- batch size: 128\n",
    "- specify validation data"
   ]
  },
  {
   "cell_type": "code",
   "execution_count": 59,
   "metadata": {
    "id": "-Y6tA30XjOH2"
   },
   "outputs": [],
   "source": [
    "epochs = 50\n",
    "batch_size = 128\n",
    "validation_data = 0.3"
   ]
  },
  {
   "cell_type": "code",
   "execution_count": 116,
   "metadata": {
    "colab": {
     "base_uri": "https://localhost:8080/"
    },
    "id": "QdV53fNJ2oRs",
    "outputId": "a8a9f56e-4b1d-4534-9928-9b906018a66b"
   },
   "outputs": [
    {
     "name": "stdout",
     "output_type": "stream",
     "text": [
      "Epoch 1/50\n",
      "3259/3259 [==============================] - 4s 1ms/step - loss: 0.7958 - mse: 0.7958 - val_loss: 0.7553 - val_mse: 0.7553\n",
      "Epoch 2/50\n",
      "3259/3259 [==============================] - 4s 1ms/step - loss: 0.8253 - mse: 0.8253 - val_loss: 0.7523 - val_mse: 0.7523\n",
      "Epoch 3/50\n",
      "3259/3259 [==============================] - 4s 1ms/step - loss: 0.7827 - mse: 0.7827 - val_loss: 0.7528 - val_mse: 0.7528\n",
      "Epoch 4/50\n",
      "3259/3259 [==============================] - 4s 1ms/step - loss: 0.7813 - mse: 0.7813 - val_loss: 0.7537 - val_mse: 0.7537\n",
      "Epoch 5/50\n",
      "3259/3259 [==============================] - 4s 1ms/step - loss: 0.7818 - mse: 0.7818 - val_loss: 0.7427 - val_mse: 0.7427\n",
      "Epoch 6/50\n",
      "3259/3259 [==============================] - 4s 1ms/step - loss: 0.7780 - mse: 0.7780 - val_loss: 0.7578 - val_mse: 0.7578\n",
      "Epoch 7/50\n",
      "3259/3259 [==============================] - 4s 1ms/step - loss: 0.7537 - mse: 0.7537 - val_loss: 0.7688 - val_mse: 0.7688\n",
      "Epoch 8/50\n",
      "3259/3259 [==============================] - 4s 1ms/step - loss: 0.7568 - mse: 0.7568 - val_loss: 0.7460 - val_mse: 0.7460\n",
      "Epoch 9/50\n",
      "3259/3259 [==============================] - 4s 1ms/step - loss: 0.7616 - mse: 0.7616 - val_loss: 0.7699 - val_mse: 0.7699\n",
      "Epoch 10/50\n",
      "3259/3259 [==============================] - 4s 1ms/step - loss: 0.7691 - mse: 0.7691 - val_loss: 0.7294 - val_mse: 0.7294\n",
      "Epoch 11/50\n",
      "3259/3259 [==============================] - 4s 1ms/step - loss: 0.7554 - mse: 0.7554 - val_loss: 0.7262 - val_mse: 0.7262\n",
      "Epoch 12/50\n",
      "3259/3259 [==============================] - 4s 1ms/step - loss: 0.7807 - mse: 0.7807 - val_loss: 0.7229 - val_mse: 0.7229\n",
      "Epoch 13/50\n",
      "3259/3259 [==============================] - 4s 1ms/step - loss: 0.7432 - mse: 0.7432 - val_loss: 0.7262 - val_mse: 0.7262\n",
      "Epoch 14/50\n",
      "3259/3259 [==============================] - 4s 1ms/step - loss: 0.7582 - mse: 0.7582 - val_loss: 0.7254 - val_mse: 0.7254\n",
      "Epoch 15/50\n",
      "3259/3259 [==============================] - 4s 1ms/step - loss: 0.7550 - mse: 0.7550 - val_loss: 0.7233 - val_mse: 0.7233\n",
      "Epoch 16/50\n",
      "3259/3259 [==============================] - 4s 1ms/step - loss: 0.7394 - mse: 0.7394 - val_loss: 0.7121 - val_mse: 0.7121\n",
      "Epoch 17/50\n",
      "3259/3259 [==============================] - 4s 1ms/step - loss: 0.7391 - mse: 0.7391 - val_loss: 0.7105 - val_mse: 0.7105\n",
      "Epoch 18/50\n",
      "3259/3259 [==============================] - 4s 1ms/step - loss: 0.7455 - mse: 0.7455 - val_loss: 0.7140 - val_mse: 0.7140\n",
      "Epoch 19/50\n",
      "3259/3259 [==============================] - 4s 1ms/step - loss: 0.7607 - mse: 0.7607 - val_loss: 0.7191 - val_mse: 0.7191\n",
      "Epoch 20/50\n",
      "3259/3259 [==============================] - 4s 1ms/step - loss: 0.7245 - mse: 0.7245 - val_loss: 0.7017 - val_mse: 0.7017\n",
      "Epoch 21/50\n",
      "3259/3259 [==============================] - 4s 1ms/step - loss: 0.7407 - mse: 0.7407 - val_loss: 0.7075 - val_mse: 0.7075\n",
      "Epoch 22/50\n",
      "3259/3259 [==============================] - 4s 1ms/step - loss: 0.7449 - mse: 0.7449 - val_loss: 0.6982 - val_mse: 0.6982\n",
      "Epoch 23/50\n",
      "3259/3259 [==============================] - 4s 1ms/step - loss: 0.7181 - mse: 0.7181 - val_loss: 0.7041 - val_mse: 0.7041\n",
      "Epoch 24/50\n",
      "3259/3259 [==============================] - 4s 1ms/step - loss: 0.7315 - mse: 0.7315 - val_loss: 0.6987 - val_mse: 0.6987\n",
      "Epoch 25/50\n",
      "3259/3259 [==============================] - 4s 1ms/step - loss: 0.7358 - mse: 0.7358 - val_loss: 0.6894 - val_mse: 0.6894\n",
      "Epoch 26/50\n",
      "3259/3259 [==============================] - 4s 1ms/step - loss: 0.7108 - mse: 0.7108 - val_loss: 0.6958 - val_mse: 0.6958\n",
      "Epoch 27/50\n",
      "3259/3259 [==============================] - 4s 1ms/step - loss: 0.7155 - mse: 0.7155 - val_loss: 0.7174 - val_mse: 0.7174\n",
      "Epoch 28/50\n",
      "3259/3259 [==============================] - 4s 1ms/step - loss: 0.7131 - mse: 0.7131 - val_loss: 0.6837 - val_mse: 0.6837\n",
      "Epoch 29/50\n",
      "3259/3259 [==============================] - 4s 1ms/step - loss: 0.7145 - mse: 0.7145 - val_loss: 0.6831 - val_mse: 0.6831\n",
      "Epoch 30/50\n",
      "3259/3259 [==============================] - 4s 1ms/step - loss: 0.7268 - mse: 0.7268 - val_loss: 0.6769 - val_mse: 0.6769\n",
      "Epoch 31/50\n",
      "3259/3259 [==============================] - 4s 1ms/step - loss: 0.7028 - mse: 0.7028 - val_loss: 0.6787 - val_mse: 0.6787\n",
      "Epoch 32/50\n",
      "3259/3259 [==============================] - 4s 1ms/step - loss: 0.7259 - mse: 0.7259 - val_loss: 0.6792 - val_mse: 0.6792\n",
      "Epoch 33/50\n",
      "3259/3259 [==============================] - 4s 1ms/step - loss: 0.6904 - mse: 0.6904 - val_loss: 0.6706 - val_mse: 0.6706\n",
      "Epoch 34/50\n",
      "3259/3259 [==============================] - 4s 1ms/step - loss: 0.7059 - mse: 0.7059 - val_loss: 0.6677 - val_mse: 0.6677\n",
      "Epoch 35/50\n",
      "3259/3259 [==============================] - 4s 1ms/step - loss: 0.6879 - mse: 0.6879 - val_loss: 0.6663 - val_mse: 0.6663\n",
      "Epoch 36/50\n",
      "3259/3259 [==============================] - 4s 1ms/step - loss: 0.7077 - mse: 0.7077 - val_loss: 0.6655 - val_mse: 0.6655\n",
      "Epoch 37/50\n",
      "3259/3259 [==============================] - 4s 1ms/step - loss: 0.6999 - mse: 0.6999 - val_loss: 0.6657 - val_mse: 0.6657\n",
      "Epoch 38/50\n",
      "3259/3259 [==============================] - 4s 1ms/step - loss: 0.7034 - mse: 0.7034 - val_loss: 0.6587 - val_mse: 0.6587\n",
      "Epoch 39/50\n",
      "3259/3259 [==============================] - 4s 1ms/step - loss: 0.6758 - mse: 0.6758 - val_loss: 0.6652 - val_mse: 0.6652\n",
      "Epoch 40/50\n",
      "3259/3259 [==============================] - 4s 1ms/step - loss: 0.6601 - mse: 0.6601 - val_loss: 0.6639 - val_mse: 0.6639\n",
      "Epoch 41/50\n",
      "3259/3259 [==============================] - 4s 1ms/step - loss: 0.7071 - mse: 0.7071 - val_loss: 0.6538 - val_mse: 0.6538\n",
      "Epoch 42/50\n",
      "3259/3259 [==============================] - 4s 1ms/step - loss: 0.6924 - mse: 0.6924 - val_loss: 0.6509 - val_mse: 0.6509\n",
      "Epoch 43/50\n",
      "3259/3259 [==============================] - 4s 1ms/step - loss: 0.7049 - mse: 0.7049 - val_loss: 0.6606 - val_mse: 0.6606\n",
      "Epoch 44/50\n",
      "3259/3259 [==============================] - 4s 1ms/step - loss: 0.6557 - mse: 0.6557 - val_loss: 0.6496 - val_mse: 0.6496\n",
      "Epoch 45/50\n",
      "3259/3259 [==============================] - 4s 1ms/step - loss: 0.6861 - mse: 0.6861 - val_loss: 0.6573 - val_mse: 0.6573\n",
      "Epoch 46/50\n",
      "3259/3259 [==============================] - 4s 1ms/step - loss: 0.6527 - mse: 0.6527 - val_loss: 0.6509 - val_mse: 0.6509\n",
      "Epoch 47/50\n",
      "3259/3259 [==============================] - 4s 1ms/step - loss: 0.6776 - mse: 0.6776 - val_loss: 0.6558 - val_mse: 0.6558\n",
      "Epoch 48/50\n",
      "3259/3259 [==============================] - 4s 1ms/step - loss: 0.6900 - mse: 0.6900 - val_loss: 0.6382 - val_mse: 0.6382\n",
      "Epoch 49/50\n",
      "3259/3259 [==============================] - 4s 1ms/step - loss: 0.6771 - mse: 0.6771 - val_loss: 0.6416 - val_mse: 0.6416\n",
      "Epoch 50/50\n",
      "3259/3259 [==============================] - 4s 1ms/step - loss: 0.6699 - mse: 0.6699 - val_loss: 0.6345 - val_mse: 0.6345\n"
     ]
    }
   ],
   "source": [
    "history = model.fit(X_train_np, y_train_np, batch_size=batch_size, epochs=epochs, validation_split=validation_data, verbose=True)\n"
   ]
  },
  {
   "cell_type": "code",
   "execution_count": 107,
   "metadata": {
    "id": "bOq32BZr4IM0"
   },
   "outputs": [],
   "source": [
    "%matplotlib inline\n",
    "import matplotlib.pyplot as plt"
   ]
  },
  {
   "cell_type": "code",
   "execution_count": 141,
   "metadata": {
    "colab": {
     "base_uri": "https://localhost:8080/",
     "height": 295
    },
    "id": "bfqVwfjI4CfV",
    "outputId": "1bd04864-dd6c-49b9-f131-1b3c288a316c"
   },
   "outputs": [
    {
     "data": {
      "image/png": "[encoded data removed]",
      "text/plain": [
       "<Figure size 432x288 with 1 Axes>"
      ]
     },
     "metadata": {
      "needs_background": "light",
      "tags": []
     },
     "output_type": "display_data"
    }
   ],
   "source": [
    "plt.plot(history.history['mse'])\n",
    "plt.plot(history.history['val_mse'])\n",
    "\n",
    "plt.title('Train V Val')\n",
    "plt.ylabel('MSE')\n",
    "plt.xlabel('epoch')\n",
    "plt.legend(['training', 'validation'], loc='best')\n",
    "plt.show()"
   ]
  },
  {
   "cell_type": "markdown",
   "metadata": {
    "id": "AW4SEP8kT2ls"
   },
   "source": [
    "## Question 10"
   ]
  },
  {
   "cell_type": "markdown",
   "metadata": {
    "id": "EJDoix_7JU61"
   },
   "source": [
    "### Evaluate the model\n",
    "- Evaluate the model on test data"
   ]
  },
  {
   "cell_type": "code",
   "execution_count": 144,
   "metadata": {
    "colab": {
     "base_uri": "https://localhost:8080/"
    },
    "id": "HdH8pYBIjHGL",
    "outputId": "490915d2-9ce0-436e-98bc-091863c6b470"
   },
   "outputs": [
    {
     "data": {
      "text/plain": [
       "[0.6369514465332031, 0.6369514465332031]"
      ]
     },
     "execution_count": 144,
     "metadata": {
      "tags": []
     },
     "output_type": "execute_result"
    }
   ],
   "source": [
    " model.evaluate(X_test_np, y_test_np, verbose=False)"
   ]
  },
  {
   "cell_type": "markdown",
   "metadata": {
    "id": "hUpDD74Xjh01"
   },
   "source": [
    "### Manual predictions\n",
    "- Test the predictions on manual inputs\n",
    "- We have scaled out training data, so we need to transform our custom inputs using the object of the scaler\n",
    "- Example of manual input: [123.430000,\t122.30999, 116.250000]"
   ]
  },
  {
   "cell_type": "code",
   "execution_count": 122,
   "metadata": {
    "id": "_mltD36A79jY"
   },
   "outputs": [],
   "source": [
    "X_new = [123.430000, 122.30999, 116.250000]"
   ]
  },
  {
   "cell_type": "code",
   "execution_count": 127,
   "metadata": {
    "id": "ZKRMRc768bSM"
   },
   "outputs": [],
   "source": [
    "# Converting inputs to an array\n",
    "X_new1 =np.array(X_new)"
   ]
  },
  {
   "cell_type": "code",
   "execution_count": 128,
   "metadata": {
    "id": "hW5Ki64w8rt_"
   },
   "outputs": [],
   "source": [
    "# Reshaping input to be fed to predict\n",
    "X_new1 = X_new1.reshape(-1,3)"
   ]
  },
  {
   "cell_type": "code",
   "execution_count": 129,
   "metadata": {
    "id": "bKtTR4C17w3O"
   },
   "outputs": [],
   "source": [
    "# Scaling as we'd done for entire input\n",
    "X_new2 = scaler.transform(X_new1)"
   ]
  },
  {
   "cell_type": "code",
   "execution_count": 130,
   "metadata": {
    "colab": {
     "base_uri": "https://localhost:8080/"
    },
    "id": "fvuH-c31lLiJ",
    "outputId": "3860419c-6e00-4128-a160-4ccd0e689fa2"
   },
   "outputs": [
    {
     "data": {
      "text/plain": [
       "array([[119.547195]], dtype=float32)"
      ]
     },
     "execution_count": 130,
     "metadata": {
      "tags": []
     },
     "output_type": "execute_result"
    }
   ],
   "source": [
    "model.predict(X_new2)"
   ]
  },
  {
   "cell_type": "markdown",
   "metadata": {
    "id": "4WH1Pr4KQlCh"
   },
   "source": [
    "# Build a DNN"
   ]
  },
  {
   "cell_type": "markdown",
   "metadata": {
    "id": "74cQBsi5QlCw"
   },
   "source": [
    "### Collect Fashion mnist data from tf.keras.datasets "
   ]
  },
  {
   "cell_type": "code",
   "execution_count": 187,
   "metadata": {
    "id": "wVWy0oDTr2Kj"
   },
   "outputs": [],
   "source": [
    "import tensorflow as tf\n",
    "#(trainX, trainY),(x_test, y_test) = tf.keras.datasets.fashion_mnist.load_data()\n",
    "(X_train, y_train), (X_test, y_test) = tf.keras.datasets.fashion_mnist.load_data()\n"
   ]
  },
  {
   "cell_type": "code",
   "execution_count": 188,
   "metadata": {
    "id": "xb5bJ2b-IbHt"
   },
   "outputs": [],
   "source": [
    "y_test_k = y_test"
   ]
  },
  {
   "cell_type": "code",
   "execution_count": 189,
   "metadata": {
    "colab": {
     "base_uri": "https://localhost:8080/"
    },
    "id": "a-CqxkfTEEP8",
    "outputId": "fb684677-44d3-40fc-bab3-2e1f90e2b17b"
   },
   "outputs": [
    {
     "data": {
      "text/plain": [
       "((60000, 28, 28), (10000, 28, 28))"
      ]
     },
     "execution_count": 189,
     "metadata": {
      "tags": []
     },
     "output_type": "execute_result"
    }
   ],
   "source": [
    "X_train.shape, X_test.shape"
   ]
  },
  {
   "cell_type": "code",
   "execution_count": 190,
   "metadata": {
    "colab": {
     "base_uri": "https://localhost:8080/"
    },
    "id": "RVqwB1paEHxn",
    "outputId": "65b11a80-5c16-4209-c1a3-3d6e70c8487b"
   },
   "outputs": [
    {
     "data": {
      "text/plain": [
       "(60000,)"
      ]
     },
     "execution_count": 190,
     "metadata": {
      "tags": []
     },
     "output_type": "execute_result"
    }
   ],
   "source": [
    "y_train.shape"
   ]
  },
  {
   "cell_type": "markdown",
   "metadata": {
    "id": "no7aWYZyQlC1"
   },
   "source": [
    "### Change train and test labels into one-hot vectors"
   ]
  },
  {
   "cell_type": "code",
   "execution_count": 191,
   "metadata": {
    "id": "UX6otc4wQlC2"
   },
   "outputs": [],
   "source": [
    "# one hot encode outputs\n",
    "y_train = tf.keras.utils.to_categorical(y_train)\n",
    "y_test = tf.keras.utils.to_categorical(y_test)\n",
    "num_classes = y_test.shape[1]"
   ]
  },
  {
   "cell_type": "code",
   "execution_count": 192,
   "metadata": {
    "colab": {
     "base_uri": "https://localhost:8080/"
    },
    "id": "2Fp0__DfDnUX",
    "outputId": "dc14e6ea-1010-4888-e9b8-3b593cebba0a"
   },
   "outputs": [
    {
     "data": {
      "text/plain": [
       "10"
      ]
     },
     "execution_count": 192,
     "metadata": {
      "tags": []
     },
     "output_type": "execute_result"
    }
   ],
   "source": [
    "num_classes"
   ]
  },
  {
   "cell_type": "code",
   "execution_count": 194,
   "metadata": {
    "colab": {
     "base_uri": "https://localhost:8080/"
    },
    "id": "7piKZW4nDiH7",
    "outputId": "42aa776b-c93b-4f66-965e-27f50f2d279b"
   },
   "outputs": [
    {
     "data": {
      "text/plain": [
       "array([[0., 0., 0., ..., 0., 0., 1.],\n",
       "       [0., 0., 1., ..., 0., 0., 0.],\n",
       "       [0., 1., 0., ..., 0., 0., 0.],\n",
       "       ...,\n",
       "       [0., 0., 0., ..., 0., 1., 0.],\n",
       "       [0., 1., 0., ..., 0., 0., 0.],\n",
       "       [0., 0., 0., ..., 0., 0., 0.]], dtype=float32)"
      ]
     },
     "execution_count": 194,
     "metadata": {
      "tags": []
     },
     "output_type": "execute_result"
    }
   ],
   "source": [
    "y_test"
   ]
  },
  {
   "cell_type": "markdown",
   "metadata": {
    "id": "QjNrRTdoQlC5"
   },
   "source": [
    "### Build the Graph"
   ]
  },
  {
   "cell_type": "markdown",
   "metadata": {
    "id": "CDJ9DHVNQlC7"
   },
   "source": [
    "### Initialize model, reshape & normalize data"
   ]
  },
  {
   "cell_type": "code",
   "execution_count": 195,
   "metadata": {
    "id": "Iz6-0ap8D59z"
   },
   "outputs": [],
   "source": [
    "# Create the model\n",
    "model = Sequential()"
   ]
  },
  {
   "cell_type": "code",
   "execution_count": 196,
   "metadata": {
    "id": "dzDiiQyiEVWa"
   },
   "outputs": [],
   "source": [
    "model.add(tf.keras.layers.Flatten(input_shape=(28, 28)))    #flattens the 28X28 image into 784 element array"
   ]
  },
  {
   "cell_type": "code",
   "execution_count": 197,
   "metadata": {
    "id": "pCDQs_g1QlC8"
   },
   "outputs": [],
   "source": [
    "# normalize inputs from 0-255 to 0.0-1.0\n",
    "X_train = X_train.astype('float32')\n",
    "X_test = X_test.astype('float32')\n",
    "X_train = X_train / 255.0\n",
    "X_test = X_test / 255.0"
   ]
  },
  {
   "cell_type": "markdown",
   "metadata": {
    "id": "kBGwTTilQlDD"
   },
   "source": [
    "### Add two fully connected layers with 200 and 100 neurons respectively with `relu` activations. Add a dropout layer with `p=0.25`"
   ]
  },
  {
   "cell_type": "code",
   "execution_count": 198,
   "metadata": {
    "id": "IXbfpfOzQlDF"
   },
   "outputs": [],
   "source": [
    "model.add(Dense(200, activation='relu', input_shape=(784,)))\n",
    "model.add(Dense(100, activation='relu'))\n",
    "model.add(Dropout(0.25))\n"
   ]
  },
  {
   "cell_type": "markdown",
   "metadata": {
    "id": "5I8f5otcQlDJ"
   },
   "source": [
    "### Add the output layer with a fully connected layer with 10 neurons with `softmax` activation. Use `categorical_crossentropy` loss and `adam` optimizer and train the network. And, report the final validation.\n",
    "\n",
    "###Also add callback, such that if validation loss doesn't decreases consecutively 2 times, stop the training"
   ]
  },
  {
   "cell_type": "code",
   "execution_count": 199,
   "metadata": {
    "id": "JZkvKymSd0Sr"
   },
   "outputs": [],
   "source": [
    "model.add(Dense(num_classes, activation='softmax'))"
   ]
  },
  {
   "cell_type": "code",
   "execution_count": 200,
   "metadata": {
    "id": "Hio_PWDFElQU"
   },
   "outputs": [],
   "source": [
    "# Compile model\n",
    "epochs = 20\n",
    "#lrate = 0.01\n",
    "#decay = lrate/epochs\n",
    "          \n",
    "#sgd = SGD(lr=lrate, momentum=0.9, decay=decay, nesterov=False)\n",
    "\n",
    "model.compile(loss='categorical_crossentropy', optimizer='adam', metrics=['accuracy']  )\n",
    "\n",
    "early_stopping = EarlyStopping(monitor='val_accuracy', patience=2, verbose=1, mode='auto')\n",
    "callback_list = [early_stopping]# [stats, early_stopping]#"
   ]
  },
  {
   "cell_type": "markdown",
   "metadata": {
    "id": "foL4GTKfRnkF"
   },
   "source": [
    "### Print model summary"
   ]
  },
  {
   "cell_type": "code",
   "execution_count": 201,
   "metadata": {
    "colab": {
     "base_uri": "https://localhost:8080/"
    },
    "id": "BhoNWO83vwmK",
    "outputId": "c39c9834-9222-4983-8138-ee34ba218697"
   },
   "outputs": [
    {
     "name": "stdout",
     "output_type": "stream",
     "text": [
      "Model: \"sequential_12\"\n",
      "_________________________________________________________________\n",
      "Layer (type)                 Output Shape              Param #   \n",
      "=================================================================\n",
      "flatten_9 (Flatten)          (None, 784)               0         \n",
      "_________________________________________________________________\n",
      "dense_23 (Dense)             (None, 200)               157000    \n",
      "_________________________________________________________________\n",
      "dense_24 (Dense)             (None, 100)               20100     \n",
      "_________________________________________________________________\n",
      "dropout_1 (Dropout)          (None, 100)               0         \n",
      "_________________________________________________________________\n",
      "dense_25 (Dense)             (None, 10)                1010      \n",
      "=================================================================\n",
      "Total params: 178,110\n",
      "Trainable params: 178,110\n",
      "Non-trainable params: 0\n",
      "_________________________________________________________________\n"
     ]
    }
   ],
   "source": [
    "model.summary()"
   ]
  },
  {
   "cell_type": "markdown",
   "metadata": {
    "id": "Ld9xHnSbRv1T"
   },
   "source": [
    "###Train your model, use test data as validation set"
   ]
  },
  {
   "cell_type": "code",
   "execution_count": 202,
   "metadata": {
    "colab": {
     "base_uri": "https://localhost:8080/"
    },
    "id": "WSiMhJPpk3GO",
    "outputId": "ff429c82-8521-4f19-bb62-cef433af64e7"
   },
   "outputs": [
    {
     "name": "stdout",
     "output_type": "stream",
     "text": [
      "Epoch 1/20\n",
      "1875/1875 [==============================] - 6s 3ms/step - loss: 0.6835 - accuracy: 0.7569 - val_loss: 0.4333 - val_accuracy: 0.8445\n",
      "Epoch 2/20\n",
      "1875/1875 [==============================] - 5s 3ms/step - loss: 0.3969 - accuracy: 0.8549 - val_loss: 0.3854 - val_accuracy: 0.8620\n",
      "Epoch 3/20\n",
      "1875/1875 [==============================] - 5s 3ms/step - loss: 0.3475 - accuracy: 0.8739 - val_loss: 0.3553 - val_accuracy: 0.8703\n",
      "Epoch 4/20\n",
      "1875/1875 [==============================] - 5s 3ms/step - loss: 0.3245 - accuracy: 0.8814 - val_loss: 0.3754 - val_accuracy: 0.8662\n",
      "Epoch 5/20\n",
      "1875/1875 [==============================] - 5s 3ms/step - loss: 0.3020 - accuracy: 0.8890 - val_loss: 0.3507 - val_accuracy: 0.8719\n",
      "Epoch 6/20\n",
      "1875/1875 [==============================] - 5s 3ms/step - loss: 0.2875 - accuracy: 0.8936 - val_loss: 0.3434 - val_accuracy: 0.8778\n",
      "Epoch 7/20\n",
      "1875/1875 [==============================] - 5s 3ms/step - loss: 0.2798 - accuracy: 0.8968 - val_loss: 0.3306 - val_accuracy: 0.8798\n",
      "Epoch 8/20\n",
      "1875/1875 [==============================] - 5s 3ms/step - loss: 0.2648 - accuracy: 0.9004 - val_loss: 0.3408 - val_accuracy: 0.8820\n",
      "Epoch 9/20\n",
      "1875/1875 [==============================] - 5s 3ms/step - loss: 0.2563 - accuracy: 0.9031 - val_loss: 0.3453 - val_accuracy: 0.8817\n",
      "Epoch 10/20\n",
      "1875/1875 [==============================] - 5s 3ms/step - loss: 0.2442 - accuracy: 0.9073 - val_loss: 0.3225 - val_accuracy: 0.8852\n",
      "Epoch 11/20\n",
      "1875/1875 [==============================] - 5s 3ms/step - loss: 0.2420 - accuracy: 0.9091 - val_loss: 0.3446 - val_accuracy: 0.8831\n",
      "Epoch 12/20\n",
      "1875/1875 [==============================] - 5s 3ms/step - loss: 0.2363 - accuracy: 0.9099 - val_loss: 0.3297 - val_accuracy: 0.8883\n",
      "Epoch 13/20\n",
      "1875/1875 [==============================] - 5s 3ms/step - loss: 0.2303 - accuracy: 0.9131 - val_loss: 0.3639 - val_accuracy: 0.8833\n",
      "Epoch 14/20\n",
      "1875/1875 [==============================] - 5s 3ms/step - loss: 0.2233 - accuracy: 0.9140 - val_loss: 0.3338 - val_accuracy: 0.8901\n",
      "Epoch 15/20\n",
      "1875/1875 [==============================] - 5s 3ms/step - loss: 0.2203 - accuracy: 0.9157 - val_loss: 0.3391 - val_accuracy: 0.8877\n",
      "Epoch 16/20\n",
      "1875/1875 [==============================] - 5s 3ms/step - loss: 0.2125 - accuracy: 0.9194 - val_loss: 0.3537 - val_accuracy: 0.8890\n",
      "Epoch 00016: early stopping\n"
     ]
    }
   ],
   "source": [
    "history_dnn = model.fit(X_train, y_train, validation_data=(X_test, y_test), epochs=epochs, batch_size=32 , callbacks=callback_list)"
   ]
  },
  {
   "cell_type": "code",
   "execution_count": 203,
   "metadata": {
    "colab": {
     "base_uri": "https://localhost:8080/"
    },
    "id": "FeBkj2QZGdz9",
    "outputId": "c0d4a382-7a83-4d92-880a-6aade8931168"
   },
   "outputs": [
    {
     "name": "stdout",
     "output_type": "stream",
     "text": [
      "Accuracy: 88.90%\n"
     ]
    }
   ],
   "source": [
    "# Final evaluation of the model\n",
    "scores = model.evaluate(X_test, y_test, verbose=0)\n",
    "print(\"Accuracy: %.2f%%\" % (scores[1]*100))"
   ]
  },
  {
   "cell_type": "markdown",
   "metadata": {
    "id": "2K2w_Oq5RzZx"
   },
   "source": [
    "###Predict Labels"
   ]
  },
  {
   "cell_type": "code",
   "execution_count": 204,
   "metadata": {
    "id": "UL76FU4lRz6n"
   },
   "outputs": [],
   "source": [
    "y_pred = np.round(model.predict(X_test))"
   ]
  },
  {
   "cell_type": "code",
   "execution_count": 205,
   "metadata": {
    "colab": {
     "base_uri": "https://localhost:8080/"
    },
    "id": "lwXX-Eg-GutH",
    "outputId": "20acfdf7-1bdd-44ff-cc4c-bc9d21bac3fe"
   },
   "outputs": [
    {
     "data": {
      "text/plain": [
       "array([[0., 0., 0., ..., 0., 0., 1.],\n",
       "       [0., 0., 1., ..., 0., 0., 0.],\n",
       "       [0., 1., 0., ..., 0., 0., 0.],\n",
       "       ...,\n",
       "       [0., 0., 0., ..., 0., 1., 0.],\n",
       "       [0., 1., 0., ..., 0., 0., 0.],\n",
       "       [0., 0., 0., ..., 0., 0., 0.]], dtype=float32)"
      ]
     },
     "execution_count": 205,
     "metadata": {
      "tags": []
     },
     "output_type": "execute_result"
    }
   ],
   "source": [
    "y_pred"
   ]
  },
  {
   "cell_type": "code",
   "execution_count": 206,
   "metadata": {
    "colab": {
     "base_uri": "https://localhost:8080/"
    },
    "id": "FkJbOPiDHwcX",
    "outputId": "cc8f3d1f-2b5e-41f5-c4dd-ef2fbc84acb5"
   },
   "outputs": [
    {
     "data": {
      "text/plain": [
       "100000"
      ]
     },
     "execution_count": 206,
     "metadata": {
      "tags": []
     },
     "output_type": "execute_result"
    }
   ],
   "source": [
    "np.size(y_pred)"
   ]
  },
  {
   "cell_type": "code",
   "execution_count": 207,
   "metadata": {
    "colab": {
     "base_uri": "https://localhost:8080/"
    },
    "id": "xL9IXAidHWrd",
    "outputId": "2369354e-ded3-4b7d-b6c9-2c526ce45229"
   },
   "outputs": [
    {
     "name": "stdout",
     "output_type": "stream",
     "text": [
      "[0. 0. 0. 0. 0. 0. 0. 0. 0. 1.]\n"
     ]
    },
    {
     "data": {
      "text/plain": [
       "9"
      ]
     },
     "execution_count": 207,
     "metadata": {
      "tags": []
     },
     "output_type": "execute_result"
    }
   ],
   "source": [
    "print(y_pred[0])\n",
    "np.argmax(y_pred[0])"
   ]
  },
  {
   "cell_type": "markdown",
   "metadata": {
    "id": "BXPFIBBRR0mO"
   },
   "source": [
    "###Print Confusion matrix"
   ]
  },
  {
   "cell_type": "code",
   "execution_count": 208,
   "metadata": {
    "colab": {
     "base_uri": "https://localhost:8080/"
    },
    "id": "hlR4qXJ7R3yT",
    "outputId": "6229a27c-7785-4ed3-e0ba-2947fa728175"
   },
   "outputs": [
    {
     "name": "stdout",
     "output_type": "stream",
     "text": [
      "[[863   0   9  29   4   1  87   0   7   0]\n",
      " [ 13 961   2  19   3   0   1   0   1   0]\n",
      " [ 54   1 814  10  78   0  42   0   1   0]\n",
      " [ 47   4  10 903  20   0  13   0   3   0]\n",
      " [ 42   0  87  35 806   0  27   0   3   0]\n",
      " [  1   0   0   0   0 967   0  10   0  22]\n",
      " [200   0  70  28  78   0 613   0  11   0]\n",
      " [  1   0   0   0   0  24   0 956   0  19]\n",
      " [  7   0   2   5   3   6   3   2 972   0]\n",
      " [  1   0   0   0   0   5   1  35   0 958]]\n"
     ]
    }
   ],
   "source": [
    "from sklearn import metrics\n",
    "\n",
    "y_predict = []\n",
    "for val in y_pred:\n",
    "    y_predict.append(np.argmax(val))\n",
    "\n",
    "cm = metrics.confusion_matrix(y_test_k,y_predict) #using y_test_k as we'd reshaped y_test\n",
    "print(cm)"
   ]
  },
  {
   "cell_type": "markdown",
   "metadata": {
    "id": "-xMY7tsqR4Z6"
   },
   "source": [
    "###Plot training accuracy vs validation accuracy\n",
    "###Plot training loss vs validation loss"
   ]
  },
  {
   "cell_type": "code",
   "execution_count": 212,
   "metadata": {
    "colab": {
     "base_uri": "https://localhost:8080/"
    },
    "id": "yKt5LpDuJmnE",
    "outputId": "b370d3c0-a1fa-4a63-e28a-9734034311f3"
   },
   "outputs": [
    {
     "name": "stdout",
     "output_type": "stream",
     "text": [
      "dict_keys(['loss', 'accuracy', 'val_loss', 'val_accuracy'])\n"
     ]
    }
   ],
   "source": [
    "print(history_dnn.history.keys())"
   ]
  },
  {
   "cell_type": "code",
   "execution_count": 216,
   "metadata": {
    "colab": {
     "base_uri": "https://localhost:8080/",
     "height": 295
    },
    "id": "q3irwsgFR-Uu",
    "outputId": "573ec623-838c-4218-ee9e-e6bb0b59d9fa"
   },
   "outputs": [
    {
     "data": {
      "image/png": "[encoded data removed]",
      "text/plain": [
       "<Figure size 432x288 with 1 Axes>"
      ]
     },
     "metadata": {
      "needs_background": "light",
      "tags": []
     },
     "output_type": "display_data"
    }
   ],
   "source": [
    "plt.plot(history_dnn.history['accuracy'])\n",
    "plt.plot(history_dnn.history['val_accuracy'])\n",
    "\n",
    "plt.title('Accuracy Vs Validation Accuracy')\n",
    "plt.ylabel('Accuracy')\n",
    "plt.xlabel('epoch')\n",
    "plt.legend(['training', 'validation'], loc='best')\n",
    "plt.show()"
   ]
  },
  {
   "cell_type": "code",
   "execution_count": 215,
   "metadata": {
    "colab": {
     "base_uri": "https://localhost:8080/",
     "height": 295
    },
    "id": "X255msCOK8oN",
    "outputId": "0baa670f-b5ef-4a16-fc99-6fe145347860"
   },
   "outputs": [
    {
     "data": {
      "image/png": "[encoded data removed]",
      "text/plain": [
       "<Figure size 432x288 with 1 Axes>"
      ]
     },
     "metadata": {
      "needs_background": "light",
      "tags": []
     },
     "output_type": "display_data"
    }
   ],
   "source": [
    "plt.plot(history_dnn.history['loss'])\n",
    "plt.plot(history_dnn.history['val_loss'])\n",
    "\n",
    "plt.title('Loss V Val Loss')\n",
    "plt.ylabel('Loss')\n",
    "plt.xlabel('epoch')\n",
    "plt.legend(['training', 'validation'], loc='best')\n",
    "plt.show()"
   ]
  }
 ],
 "metadata": {
  "colab": {
   "collapsed_sections": [],
   "name": "Questions_Lab_on_NNDL.ipynb",
   "provenance": [],
   "toc_visible": true
  },
  "kernelspec": {
   "display_name": "Python 3",
   "language": "python",
   "name": "python3"
  },
  "language_info": {
   "codemirror_mode": {
    "name": "ipython",
    "version": 3
   },
   "file_extension": ".py",
   "mimetype": "text/x-python",
   "name": "python",
   "nbconvert_exporter": "python",
   "pygments_lexer": "ipython3",
   "version": "3.7.7"
  }
 },
 "nbformat": 4,
 "nbformat_minor": 1
}
